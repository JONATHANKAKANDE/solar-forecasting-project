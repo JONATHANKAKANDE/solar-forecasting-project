{
 "cells": [
  {
   "cell_type": "markdown",
   "id": "388d67d7",
   "metadata": {},
   "source": [
    "# Import the packages to be used to analyze data\n",
    "1. pandas: handles time-series data (weather data)\n",
    "2. numpy: math operations\n",
    "3. pvlib: solar energy modeling (sun position, irradiance, temperature)\n",
    "4. scikit-learn: for splitting data and training ML models\n",
    "5. matplotlib: for making scatter plots"
   ]
  },
  {
   "cell_type": "code",
   "execution_count": 2,
   "id": "9297be71",
   "metadata": {},
   "outputs": [],
   "source": [
    "import pandas as pd\n",
    "import numpy as np\n",
    "import pvlib\n",
    "from pvlib import location, irradiance, temperature, pvsystem, modelchain\n",
    "from sklearn.model_selection import train_test_split\n",
    "import matplotlib.pyplot as plt\n"
   ]
  },
  {
   "cell_type": "markdown",
   "id": "b3c96417",
   "metadata": {},
   "source": [
    "# Functions"
   ]
  },
  {
   "cell_type": "markdown",
   "id": "66bbae6c",
   "metadata": {},
   "source": [
    "1. read_weather(): Reads the weather CSV and sets up the datetime index."
   ]
  },
  {
   "cell_type": "code",
   "execution_count": 3,
   "id": "45c42f6a",
   "metadata": {},
   "outputs": [],
   "source": [
    "def read_weather(csv_path, tz='UTC'):\n",
    "    df = pd.read_csv(csv_path, parse_dates=[0], index_col=0)\n",
    "    df.index = df.index.tz_localize(None).tz_localize(tz)\n",
    "    # normalize column names\n",
    "    df = df.rename(columns={c.lower(): c for c in df.columns})\n",
    "    return df"
   ]
  },
  {
   "cell_type": "markdown",
   "id": "25c90f1e",
   "metadata": {},
   "source": [
    "2. ensure_frequency(): Makes sure the data is evenly spaced in time (e.g., every 15 minutes)."
   ]
  },
  {
   "cell_type": "code",
   "execution_count": 4,
   "id": "cb201251",
   "metadata": {},
   "outputs": [],
   "source": [
    "def ensure_frequency(df, freq='15T'):\n",
    "    df = df.sort_index()\n",
    "    df = df.resample(freq).interpolate(limit_direction='both')\n",
    "    return df"
   ]
  },
  {
   "cell_type": "markdown",
   "id": "9f31ac43",
   "metadata": {},
   "source": [
    "3. compute_solar_geometry(): Computes the sun’s position at each timestamp."
   ]
  },
  {
   "cell_type": "code",
   "execution_count": 5,
   "id": "331100ef",
   "metadata": {},
   "outputs": [],
   "source": [
    "def compute_solar_geometry(df, latitude, longitude, altitude=0, tz='UTC'):\n",
    "    loc = location.Location(latitude, longitude, tz=tz, altitude=altitude)\n",
    "    sp = loc.get_solarposition(df.index)\n",
    "    # add zenith and azimuth\n",
    "    df['solar_zenith'] = sp['zenith']\n",
    "    df['solar_azimuth'] = sp['azimuth']\n",
    "    return df"
   ]
  },
  {
   "cell_type": "markdown",
   "id": "4f754b84",
   "metadata": {},
   "source": [
    "4. compute_poa(): Computes plane-of-array (POA) irradiance — how much sunlight hits the tilted panels."
   ]
  },
  {
   "cell_type": "code",
   "execution_count": 6,
   "id": "2f8c4ae0",
   "metadata": {},
   "outputs": [],
   "source": [
    "def compute_poa(df, tilt, azimuth, albedo=0.2, model='perez'):\n",
    "# if dni or dhi missing, try to estimate via erbs decomposition\n",
    "    if 'dni' not in df.columns or 'dhi' not in df.columns:\n",
    "        ghi = df['ghi'].values\n",
    "        solar_zenith = df['solar_zenith'].values\n",
    "        dni, dhi = irradiance.erbs(ghi, solar_zenith, df.index)\n",
    "        df['dni'] = dni\n",
    "        df['dhi'] = dhi\n",
    "\n",
    "    poa = irradiance.get_total_irradiance(\n",
    "        surface_tilt=tilt,\n",
    "        surface_azimuth=azimuth,\n",
    "        solar_zenith=df['solar_zenith'],\n",
    "        solar_azimuth=df['solar_azimuth'],\n",
    "        dni=df['dni'],\n",
    "        ghi=df['ghi'],\n",
    "        dhi=df['dhi'],\n",
    "        albedo=albedo,\n",
    "        model=model)\n",
    "\n",
    "    df['poa_global'] = poa['poa_global']\n",
    "    df['poa_direct'] = poa['poa_direct']\n",
    "    df['poa_diffuse'] = poa['poa_diffuse']\n",
    "    return df"
   ]
  },
  {
   "cell_type": "markdown",
   "id": "4f57a991",
   "metadata": {},
   "source": [
    "5. estimate_cell_temperature(): Estimates the temperature of the solar cells."
   ]
  },
  {
   "cell_type": "code",
   "execution_count": 7,
   "id": "05c968ba",
   "metadata": {},
   "outputs": [],
   "source": [
    "def estimate_cell_temperature(df, mounting='open_rack', noct=None):\n",
    "    if noct is not None:\n",
    "        # T_c = T_a + (E_poa / 800) * (NOCT - 20)\n",
    "        df['cell_temp'] = df['temp_air'] + (df['poa_global'] / 800.0) * (noct - 20.0)\n",
    "        return df\n",
    "\n",
    "    # else use sapm cell temp model (requires wind speed, ambient temp, poa_global)\n",
    "    try:\n",
    "        # use default model parameters for mounting types via pvlib\n",
    "        params = temperature.TemperatureModelParameters.from_sapm(mounting_type=mounting)\n",
    "        df['cell_temp'] = temperature.sapm_cell(df['poa_global'], df['temp_air'], df['wind_speed'], **params)\n",
    "    except Exception:\n",
    "        # fallback to simple approximation\n",
    "        df['cell_temp'] = df['temp_air'] + (df['poa_global'] / 800.0) * 20.0\n",
    "    return df"
   ]
  },
  {
   "cell_type": "markdown",
   "id": "7026dcc5",
   "metadata": {},
   "source": [
    "6. clear_sky_index(): Compares actual sunlight to what would happen on a clear day."
   ]
  },
  {
   "cell_type": "code",
   "execution_count": 8,
   "id": "f2d4063a",
   "metadata": {},
   "outputs": [],
   "source": [
    "def clear_sky_index(df, latitude, longitude, tz='UTC'):\n",
    "    loc = location.Location(latitude, longitude, tz=tz)\n",
    "    cs = loc.get_clearsky(df.index, model='ineichen')\n",
    "    df['ghi_cs'] = cs['ghi']\n",
    "    df['k_clear'] = df['ghi'] / (df['ghi_cs'] + 1e-9)\n",
    "    df['k_clear'] = df['k_clear'].clip(0.0, 2.0)\n",
    "    return df"
   ]
  },
  {
   "cell_type": "markdown",
   "id": "e63bb4f7",
   "metadata": {},
   "source": [
    "7. simple_dc_power(): Estimates DC power output from the panels."
   ]
  },
  {
   "cell_type": "code",
   "execution_count": 9,
   "id": "ab98a0db",
   "metadata": {},
   "outputs": [],
   "source": [
    "def simple_dc_power(df, system_kwp, gamma_p=-0.004, p_stc_per_kwp=1000.0):\n",
    "# P_dc = P_stc * (E_poa / 1000) * (1 + gamma*(Tcell-25))\n",
    "    p_stc_kw = system_kwp\n",
    "    df['p_dc_est'] = p_stc_kw * (df['poa_global'] / p_stc_per_kwp) * (1.0 + gamma_p * (df['cell_temp'] - 25.0))\n",
    "    df['p_dc_est'] = df['p_dc_est'].clip(lower=0.0)\n",
    "    return df"
   ]
  },
  {
   "cell_type": "markdown",
   "id": "3c181e0c",
   "metadata": {},
   "source": [
    "8. simple_inverter_ac(): Converts DC power to AC power after the inverter."
   ]
  },
  {
   "cell_type": "code",
   "execution_count": 10,
   "id": "62e6a663",
   "metadata": {},
   "outputs": [],
   "source": [
    "def simple_inverter_ac(df, inverter_ac_rating_kw, eta_const=0.98, min_eta=0.90):\n",
    "    df['p_ac_est'] = df['p_dc_est'] * eta_const\n",
    "    # clip at inverter maximum\n",
    "    df['p_ac_est'] = df['p_ac_est'].clip(upper=inverter_ac_rating_kw)\n",
    "    # apply tiny floor for night\n",
    "    df.loc[df['poa_global'] < 10, 'p_ac_est'] = 0.0\n",
    "    return df"
   ]
  },
  {
   "cell_type": "markdown",
   "id": "a7de4d60",
   "metadata": {},
   "source": [
    "9. apply_system_losses(): Applies overall losses like soiling, wiring, mismatch, etc."
   ]
  },
  {
   "cell_type": "code",
   "execution_count": 11,
   "id": "cb4bf9ff",
   "metadata": {},
   "outputs": [],
   "source": [
    "def apply_system_losses(df, loss_factors=None):\n",
    "    if loss_factors is None:\n",
    "        loss_factors = {'soiling': 0.01, 'wiring': 0.01, 'mismatch': 0.01, 'availability': 0.01}\n",
    "    total_loss = 1.0\n",
    "    for v in loss_factors.values():\n",
    "        total_loss *= (1.0 - v)\n",
    "    df['p_ac_est_net'] = df['p_ac_est'] * total_loss\n",
    "    return df"
   ]
  },
  {
   "cell_type": "markdown",
   "id": "7762ef65",
   "metadata": {},
   "source": [
    "10. time_features(): Adds calendar/time-based features for machine learning."
   ]
  },
  {
   "cell_type": "code",
   "execution_count": 12,
   "id": "1892ce86",
   "metadata": {},
   "outputs": [],
   "source": [
    "def time_features(df):\n",
    "    idx = df.index\n",
    "    df['hour'] = idx.hour\n",
    "    df['minute'] = idx.minute\n",
    "    df['dow'] = idx.weekday\n",
    "    df['doy'] = idx.dayofyear\n",
    "    # cyclic encodings\n",
    "    df['hour_sin'] = np.sin(2 * np.pi * df['hour'] / 24.0)\n",
    "    df['hour_cos'] = np.cos(2 * np.pi * df['hour'] / 24.0)\n",
    "    df['doy_sin'] = np.sin(2 * np.pi * df['doy'] / 365.25)\n",
    "    df['doy_cos'] = np.cos(2 * np.pi * df['doy'] / 365.25)\n",
    "    return df"
   ]
  },
  {
   "cell_type": "markdown",
   "id": "d54245e3",
   "metadata": {},
   "source": [
    "11. lag_and_rolling_features(): Adds historical features for forecasting."
   ]
  },
  {
   "cell_type": "code",
   "execution_count": 13,
   "id": "516bc501",
   "metadata": {},
   "outputs": [],
   "source": [
    "def lag_and_rolling_features(df, cols, lags=[1,2,3,4], windows=['1H','3H','6H']):\n",
    "    freq = pd.infer_freq(df.index)\n",
    "    if freq is None:\n",
    "        # fallback: compute based on median diff\n",
    "        step_t = (df.index.to_series().diff().median())\n",
    "        freq = f\"{int(step_t.total_seconds()/60)}T\"\n",
    "\n",
    "    # convert lags in steps\n",
    "    for c in cols:\n",
    "        for lag in lags:\n",
    "            df[f'{c}_lag_{lag}'] = df[c].shift(lag)\n",
    "        for w in windows:\n",
    "            df[f'{c}_roll_mean_{w}'] = df[c].rolling(w, min_periods=1).mean()\n",
    "            df[f'{c}_roll_std_{w}'] = df[c].rolling(w, min_periods=1).std().fillna(0.0)\n",
    "    return df"
   ]
  },
  {
   "cell_type": "markdown",
   "id": "d32c96c7",
   "metadata": {},
   "source": [
    "# build_feature_pipeline()\n",
    "This is the main orchestrator that runs all the steps in order."
   ]
  },
  {
   "cell_type": "code",
   "execution_count": 14,
   "id": "f1d95d2b",
   "metadata": {},
   "outputs": [],
   "source": [
    "def build_feature_pipeline(weather_df,\n",
    "                           latitude,\n",
    "                           longitude,\n",
    "                           system_kwp,\n",
    "                           inverter_kw,\n",
    "                           tilt,\n",
    "                           azimuth,\n",
    "                           noct=None,\n",
    "                           albedo=0.2,\n",
    "                           tz='UTC',\n",
    "                           resample_freq='15T'):\n",
    "    \n",
    "    df = weather_df.copy()\n",
    "    # ensure tz-aware index\n",
    "    if df.index.tz is None:\n",
    "        df.index = df.index.tz_localize(tz)\n",
    "\n",
    "        df = ensure_frequency(df, freq=resample_freq)\n",
    "    df = compute_solar_geometry(df, latitude, longitude, tz=tz)\n",
    "    df = compute_poa(df, tilt=tilt, azimuth=azimuth, albedo=albedo)\n",
    "    df = estimate_cell_temperature(df, mounting='open_rack', noct=noct)\n",
    "    df = clear_sky_index(df, latitude, longitude, tz=tz)\n",
    "    df = simple_dc_power(df, system_kwp)\n",
    "    df = simple_inverter_ac(df, inverter_ac_rating_kw=inverter_kw)\n",
    "    df = apply_system_losses(df)\n",
    "    df = time_features(df)\n",
    "\n",
    "    # add lag/rolling for key columns\n",
    "    df = lag_and_rolling_features(df, cols=['p_ac_est_net', 'poa_global', 'ghi', 'k_clear'], lags=[1,2,3,4,8,24], windows=['1H','3H','6H','24H'])\n",
    "\n",
    "    # drop rows with NaNs that cannot be used for model (first N rows)\n",
    "    df = df.dropna()\n",
    "\n",
    "    # choose feature columns (example)\n",
    "    feature_cols = [\n",
    "        'poa_global','poa_direct','poa_diffuse','ghi','dni','dhi','temp_air','wind_speed','cell_temp',\n",
    "        'k_clear','hour_sin','hour_cos','doy_sin','doy_cos',\n",
    "    ]\n",
    "    # include lags/rolls\n",
    "    feature_cols += [c for c in df.columns if any(x in c for x in ['lag','roll'])]\n",
    "\n",
    "    X = df[feature_cols].copy()\n",
    "    y = df['p_ac_est_net'].copy()  # if you have measured power, replace with measured target\n",
    "\n",
    "    return X, y, df"
   ]
  }
 ],
 "metadata": {
  "kernelspec": {
   "display_name": "venv",
   "language": "python",
   "name": "python3"
  },
  "language_info": {
   "codemirror_mode": {
    "name": "ipython",
    "version": 3
   },
   "file_extension": ".py",
   "mimetype": "text/x-python",
   "name": "python",
   "nbconvert_exporter": "python",
   "pygments_lexer": "ipython3",
   "version": "3.12.7"
  }
 },
 "nbformat": 4,
 "nbformat_minor": 5
}
